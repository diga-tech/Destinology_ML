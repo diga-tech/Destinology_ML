{
 "cells": [
  {
   "cell_type": "code",
   "execution_count": 1,
   "id": "07d985be-6bca-4702-991f-ce312542541b",
   "metadata": {},
   "outputs": [
    {
     "name": "stdout",
     "output_type": "stream",
     "text": [
      "WARNING:tensorflow:From C:\\Users\\Radiga\\AppData\\Local\\Programs\\Python\\Python39\\lib\\site-packages\\keras\\src\\losses.py:2976: The name tf.losses.sparse_softmax_cross_entropy is deprecated. Please use tf.compat.v1.losses.sparse_softmax_cross_entropy instead.\n",
      "\n"
     ]
    }
   ],
   "source": [
    "from tensorflow.keras.models import load_model\n",
    "import tensorflow as tf\n",
    "import numpy as np\n",
    "import pandas as pd\n",
    "import tensorflow as tf"
   ]
  },
  {
   "cell_type": "code",
   "execution_count": 2,
   "id": "f68a4531-7d99-4050-b967-1f4bad4668c2",
   "metadata": {},
   "outputs": [
    {
     "name": "stdout",
     "output_type": "stream",
     "text": [
      "WARNING:tensorflow:From C:\\Users\\Radiga\\AppData\\Local\\Programs\\Python\\Python39\\lib\\site-packages\\keras\\src\\saving\\legacy\\saved_model\\load.py:107: The name tf.gfile.Exists is deprecated. Please use tf.io.gfile.exists instead.\n",
      "\n",
      "WARNING:tensorflow:From C:\\Users\\Radiga\\AppData\\Local\\Programs\\Python\\Python39\\lib\\site-packages\\keras\\src\\saving\\legacy\\saved_model\\load.py:1113: The name tf.executing_eagerly_outside_functions is deprecated. Please use tf.compat.v1.executing_eagerly_outside_functions instead.\n",
      "\n"
     ]
    }
   ],
   "source": [
    "model=load_model('satu_saved_model')"
   ]
  },
  {
   "cell_type": "code",
   "execution_count": 3,
   "id": "b916cc24-6eec-4480-ab11-7c2412c8aebd",
   "metadata": {},
   "outputs": [],
   "source": [
    "rating = pd.read_csv('./dataset/tourism_rating.csv')\n",
    "place = pd.read_csv('./dataset/tourism_with_id.csv')\n",
    "user = pd.read_csv('./dataset/user.csv')"
   ]
  },
  {
   "cell_type": "code",
   "execution_count": 4,
   "id": "154269ca-4504-4e61-87f9-cfc10e07c87f",
   "metadata": {},
   "outputs": [],
   "source": [
    "rating = pd.merge(rating, place[['Place_Id']], how='right', on='Place_Id')\n",
    "user = pd.merge(user, rating[['User_Id']], how='right', on='User_Id').drop_duplicates().sort_values('User_Id')\n",
    "place = place.drop(['Unnamed: 11','Unnamed: 12'],axis=1)"
   ]
  },
  {
   "cell_type": "code",
   "execution_count": 5,
   "id": "97443105-4f49-4a7f-a51a-d45cbf611cf7",
   "metadata": {},
   "outputs": [],
   "source": [
    "place_df = place[['Place_Id','Place_Name','Category','Rating','Price']]\n",
    "place_df.columns = ['id','place_name','category','rating','price']"
   ]
  },
  {
   "cell_type": "code",
   "execution_count": 6,
   "id": "57d523d4-285c-4bb4-a39e-e3287a8844ee",
   "metadata": {},
   "outputs": [
    {
     "name": "stdin",
     "output_type": "stream",
     "text": [
      " 22\n",
      " Surabaya\n"
     ]
    }
   ],
   "source": [
    "user_pilih = int(input())\n",
    "kota_terpilih = input()\n",
    "place = place[place['City'].isin([kota_terpilih])]"
   ]
  },
  {
   "cell_type": "code",
   "execution_count": 7,
   "id": "ecdff02f-525f-431b-85c1-e23e68eaaeb8",
   "metadata": {},
   "outputs": [],
   "source": [
    "df=rating.copy()"
   ]
  },
  {
   "cell_type": "code",
   "execution_count": 8,
   "id": "b7bf7ccc-e8c9-44f2-88bc-dfca34e0ad6c",
   "metadata": {},
   "outputs": [],
   "source": [
    "user_unique_vals = df['User_Id'].unique().tolist()\n",
    "user_to_user_encoded = {x: i for i, x in enumerate(user_unique_vals)}\n",
    "user_encoded_to_user = {i: x for i, x in enumerate(user_unique_vals)}\n",
    "df['user'] = df['User_Id'].map(user_to_user_encoded)\n",
    "\n",
    "place_unique_vals = df['Place_Id'].unique().tolist()\n",
    "place_to_place_encoded = {x: i for i, x in enumerate(place_unique_vals)}\n",
    "place_encoded_to_place = {i: x for i, x in enumerate(place_unique_vals)}\n",
    "df['place'] = df['Place_Id'].map(place_to_place_encoded)"
   ]
  },
  {
   "cell_type": "code",
   "execution_count": 9,
   "id": "015ade25-3ca2-4306-a0f7-be3b46f9a262",
   "metadata": {},
   "outputs": [
    {
     "name": "stdout",
     "output_type": "stream",
     "text": [
      "Number of User: 300, Number of Place: 256, Min Rating: 1.0, Max Rating: 5.0\n"
     ]
    }
   ],
   "source": [
    "# # Mendapatkan jumlah user dan place\n",
    "# Mendapatkan jumlah user dan place\n",
    "num_users, num_place = len(user_to_user_encoded), len(place_to_place_encoded)\n",
    " \n",
    "# Mengubah rating menjadi nilai float\n",
    "df['Place_Ratings'] = df['Place_Ratings'].values.astype(np.float32)\n",
    " \n",
    "# Mendapatkan nilai minimum dan maksimum rating\n",
    "min_rating, max_rating = min(df['Place_Ratings']), max(df['Place_Ratings'])\n",
    " \n",
    "print(f'Number of User: {num_users}, Number of Place: {num_place}, Min Rating: {min_rating}, Max Rating: {max_rating}')"
   ]
  },
  {
   "cell_type": "code",
   "execution_count": 10,
   "id": "58d1dbbd-34ec-4ea0-bc1f-cc881e195e17",
   "metadata": {},
   "outputs": [],
   "source": [
    "place_df = place[['Place_Id','Place_Name','Category','Rating','Price']]\n",
    "place_df.columns = ['id','place_name','category','rating','price']\n",
    "df = rating.copy()"
   ]
  },
  {
   "cell_type": "code",
   "execution_count": 11,
   "id": "691da5a4-4420-4b2a-b9e9-f0ec9da7a097",
   "metadata": {},
   "outputs": [],
   "source": [
    "user_id = user_pilih\n",
    "place_visited_by_user = df[df.User_Id == user_id]\n",
    "\n",
    "# Membuat data lokasi yang belum dikunjungi user\n",
    "place_not_visited = place_df[~place_df['id'].isin(place_visited_by_user.Place_Id.values)]['id'] \n",
    "place_not_visited = list(\n",
    "    set(place_not_visited)\n",
    "    .intersection(set(place_to_place_encoded.keys()))\n",
    ")\n",
    " \n",
    "place_not_visited = [[place_to_place_encoded.get(x)] for x in place_not_visited]\n",
    "user_encoder = user_to_user_encoded.get(user_id)\n",
    "user_place_array = np.hstack(\n",
    "    ([[user_encoder]] * len(place_not_visited), place_not_visited)\n",
    ")"
   ]
  },
  {
   "cell_type": "code",
   "execution_count": 12,
   "id": "85507f96-c3f1-4f3f-b941-2f12aa2defe6",
   "metadata": {},
   "outputs": [
    {
     "name": "stdout",
     "output_type": "stream",
     "text": [
      "2/2 [==============================] - 0s 3ms/step\n",
      "Daftar rekomendasi untuk: User 22\n",
      "============================================= \n",
      "\n",
      "------------------------------------------------------------\n",
      "Tempat dengan rating wisata paling tinggi dari user\n",
      "------------------------------------------------------------\n",
      "Surabaya Museum (Gedung Siola) : Tempat Budaya/ Sejarah\n",
      "\n",
      "------------------------------------------------------------\n",
      "Top 7 place recommendation\n",
      "------------------------------------------------------------\n",
      "1 . Ekowisata Mangrove Wonorejo \n",
      "     Alam/ Taman Nasional , Harga Tiket Masuk  0 , Rating Wisata  4.3 \n",
      "\n",
      "2 . Taman Harmoni Keputih \n",
      "     Alam/ Taman Nasional , Harga Tiket Masuk  0 , Rating Wisata  4.4 \n",
      "\n",
      "3 . Taman Prestasi \n",
      "     Pusat Perkotaan , Harga Tiket Masuk  0 , Rating Wisata  4.6 \n",
      "\n",
      "4 . Monumen Kapal Selam \n",
      "     Tempat Budaya/ Sejarah , Harga Tiket Masuk  15000 , Rating Wisata  4.4 \n",
      "\n",
      "5 . Taman Keputran \n",
      "     Alam/ Taman Nasional , Harga Tiket Masuk  0 , Rating Wisata  4.3 \n",
      "\n",
      "6 . Taman Barunawati \n",
      "     Alam/ Taman Nasional , Harga Tiket Masuk  0 , Rating Wisata  4.2 \n",
      "\n",
      "7 . Kenjeran Park \n",
      "     Alam/ Taman Nasional , Harga Tiket Masuk  35000 , Rating Wisata  4.2 \n",
      "\n",
      "8 . Kebun Bibit Wonorejo \n",
      "     Alam/ Taman Nasional , Harga Tiket Masuk  0 , Rating Wisata  4.4 \n",
      "\n",
      "9 . Taman Ekspresi Dan Perpustakaan \n",
      "     Alam/ Taman Nasional , Harga Tiket Masuk  0 , Rating Wisata  4.5 \n",
      "\n",
      "10 . Rumah Batik \n",
      "     Tempat Budaya/ Sejarah , Harga Tiket Masuk  0 , Rating Wisata  4.5 \n",
      "\n",
      "11 . Ciputra Waterpark \n",
      "     Pusat Perkotaan , Harga Tiket Masuk  95000 , Rating Wisata  4.3 \n",
      "\n",
      "12 . Masjid Muhammad Cheng Hoo \n",
      "     Tempat Ibadah , Harga Tiket Masuk  0 , Rating Wisata  4.7 \n",
      "\n",
      "13 . Masjid Nasional Al-Akbar \n",
      "     Tempat Ibadah , Harga Tiket Masuk  0 , Rating Wisata  4.9 \n",
      "\n",
      "14 . Jembatan Merah \n",
      "     Tempat Budaya/ Sejarah , Harga Tiket Masuk  0 , Rating Wisata  4.5 \n",
      "\n",
      "15 . Keraton Surabaya \n",
      "     Tempat Budaya/ Sejarah , Harga Tiket Masuk  0 , Rating Wisata  4.4 \n",
      "\n",
      "16 . Klenteng Sanggar Agung \n",
      "     Tempat Budaya/ Sejarah , Harga Tiket Masuk  10000 , Rating Wisata  4.5 \n",
      "\n",
      "17 . Museum Sepuluh Nopember Kota Surabaya \n",
      "     Tempat Budaya/ Sejarah , Harga Tiket Masuk  5000 , Rating Wisata  4.7 \n",
      "\n",
      "18 . Monumen Tugu Pahlawan \n",
      "     Tempat Budaya/ Sejarah , Harga Tiket Masuk  0 , Rating Wisata  4.7 \n",
      "\n",
      "19 . Museum Kesehatan Dr. Adhyatma \n",
      "     Tempat Budaya/ Sejarah , Harga Tiket Masuk  10000 , Rating Wisata  4.4 \n",
      "\n",
      "20 . Monumen Jalesveva Jayamahe \n",
      "     Tempat Budaya/ Sejarah , Harga Tiket Masuk  0 , Rating Wisata  4.6 \n",
      "\n",
      "=============================================\n"
     ]
    }
   ],
   "source": [
    "# Mengambil top 7 recommendation\n",
    "user_place_array = tf.cast(user_place_array, tf.int64)\n",
    "ratings = model.predict(user_place_array).flatten()\n",
    "\n",
    "top_ratings_indices = ratings.argsort()[-21:][::-1]\n",
    "recommended_place_ids = [\n",
    "    place_encoded_to_place.get(place_not_visited[x][0]) for x in top_ratings_indices\n",
    "]\n",
    "\n",
    "print('Daftar rekomendasi untuk: {}'.format('User ' + str(user_id)))\n",
    "print('===' * 15, '\\n')\n",
    "print('----' * 15)\n",
    "print('Tempat dengan rating wisata paling tinggi dari user')\n",
    "print('----' * 15)\n",
    "\n",
    "top_place_user = (\n",
    "    place_visited_by_user.sort_values(\n",
    "        by='Place_Ratings',\n",
    "        ascending=False\n",
    "    )\n",
    "    .head(5)\n",
    "    .Place_Id.values\n",
    ")\n",
    "\n",
    "place_df_rows = place_df[place_df['id'].isin(top_place_user)]\n",
    "for row in place_df_rows.itertuples():\n",
    "    print(row.place_name, ':', row.category)\n",
    "\n",
    "print('')\n",
    "print('----' * 15)\n",
    "print('Top 7 place recommendation')\n",
    "print('----' * 15)\n",
    "\n",
    "recommended_place = place_df[place_df['id'].isin(recommended_place_ids)]\n",
    "for row, i in zip(recommended_place.itertuples(), range(1, 21)):\n",
    "    print(i, '.', row.place_name, '\\n    ', row.category, ',', 'Harga Tiket Masuk ', row.price, ',',\n",
    "          'Rating Wisata ', row.rating, '\\n')\n",
    "\n",
    "print('===' * 15)"
   ]
  },
  {
   "cell_type": "code",
   "execution_count": null,
   "id": "c8a9cb80-f10a-4391-96fc-438d5a36b253",
   "metadata": {},
   "outputs": [],
   "source": []
  }
 ],
 "metadata": {
  "kernelspec": {
   "display_name": "Python 3 (ipykernel)",
   "language": "python",
   "name": "python3"
  },
  "language_info": {
   "codemirror_mode": {
    "name": "ipython",
    "version": 3
   },
   "file_extension": ".py",
   "mimetype": "text/x-python",
   "name": "python",
   "nbconvert_exporter": "python",
   "pygments_lexer": "ipython3",
   "version": "3.9.10"
  }
 },
 "nbformat": 4,
 "nbformat_minor": 5
}
